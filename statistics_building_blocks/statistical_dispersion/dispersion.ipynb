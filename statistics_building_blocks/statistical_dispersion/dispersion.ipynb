{
 "cells": [
  {
   "cell_type": "markdown",
   "metadata": {},
   "source": [
    "# Dispersion\n",
    "\n",
    "also called **variability**, **scatter**, or **spread**, is the extent to which a distribution is stretched or squeezed.\n",
    "\n",
    "Measures:\n",
    "- range, `max - min`\n",
    "- interquartile range (IQR), `IQR = Q3 - Q1`\n",
    "- variance, `sum( (x - mean)**2 ) / (number_of_samples - 1)`\n",
    "- standard deviation, `sqrt(variance)`"
   ]
  },
  {
   "cell_type": "markdown",
   "metadata": {},
   "source": [
    "## Range\n",
    "\n",
    "`range = max(data) - min(data)`\n",
    "\n",
    "The larger it is, the more spread out our data is."
   ]
  },
  {
   "cell_type": "markdown",
   "metadata": {},
   "source": [
    "## Interquartile range (IQR)\n",
    "\n",
    "Doesn't consider extreme values, the IQR iss the spread of the middle 50% of the data.\n",
    "\n",
    "- Q2: the median\n",
    "- Q1: the median of the first half\n",
    "- Q3: the median of the second half\n",
    "\n",
    "`IQR = Q3 - Q1`"
   ]
  },
  {
   "cell_type": "markdown",
   "metadata": {},
   "source": [
    "## Variance\n",
    "\n",
    "Sum of the squired difference of all points to the mean, devided by the total number of the data. It tells how spread out the whole dataset is. The unit is also squared in variance.\n",
    "\n",
    "`variance = sum( (x - mean)**2 ) / number_of_samples`\n",
    "\n",
    "#### The sample variance would consistently be a little smaller than the reall variance of the population\n",
    "\n",
    "In order to get the sample variance to be **unbiased**, we dived by `number_of_samples - 1`\n",
    "\n",
    "`variance = sum( (x - mean)**2 ) / (number_of_samples - 1)`"
   ]
  },
  {
   "cell_type": "markdown",
   "metadata": {},
   "source": [
    "## Standard deviation\n",
    "\n",
    "The average amount we expect a point to deviate from the mean.\n",
    "\n",
    "`std = sqrt(variance)`"
   ]
  },
  {
   "cell_type": "markdown",
   "metadata": {},
   "source": [
    "---"
   ]
  },
  {
   "cell_type": "code",
   "execution_count": 1,
   "metadata": {},
   "outputs": [],
   "source": [
    "import numpy as np\n",
    "import seaborn as sns"
   ]
  },
  {
   "cell_type": "code",
   "execution_count": 2,
   "metadata": {},
   "outputs": [
    {
     "name": "stderr",
     "output_type": "stream",
     "text": [
      "/opt/cloudera/parcels/Anaconda-5.1.0.1/envs/newron-dev/lib/python3.6/site-packages/scipy/stats/stats.py:1713: FutureWarning: Using a non-tuple sequence for multidimensional indexing is deprecated; use `arr[tuple(seq)]` instead of `arr[seq]`. In the future this will be interpreted as an array index, `arr[np.array(seq)]`, which will result either in an error or a different result.\n",
      "  return np.add.reduce(sorted[indexer] * weights, axis=axis) / sumval\n"
     ]
    },
    {
     "data": {
      "text/plain": [
       "<matplotlib.axes._subplots.AxesSubplot at 0x7f6dd07cadd8>"
      ]
     },
     "execution_count": 2,
     "metadata": {},
     "output_type": "execute_result"
    },
    {
     "data": {
      "image/png": "[encoded data removed]",
      "text/plain": [
       "<Figure size 432x288 with 1 Axes>"
      ]
     },
     "metadata": {
      "needs_background": "light"
     },
     "output_type": "display_data"
    }
   ],
   "source": [
    "mu, sigma = 0, 0.1\n",
    "data = np.random.normal(mu, sigma, 1000)\n",
    "sns.distplot(data)"
   ]
  },
  {
   "cell_type": "code",
   "execution_count": 3,
   "metadata": {},
   "outputs": [
    {
     "name": "stdout",
     "output_type": "stream",
     "text": [
      "Range is： 0.590241163918231\n",
      "IQR is： 0.12923511082648417\n",
      "Variance is： 0.009378700051822288\n",
      "Standard deviation is： 0.09684368875575883\n"
     ]
    }
   ],
   "source": [
    "r = max(data) - min(data)\n",
    "\n",
    "q1 = np.percentile(data, 25)\n",
    "q2 = np.percentile(data, 50)\n",
    "q3 = np.percentile(data, 75)\n",
    "iqr = q3 - q1\n",
    "\n",
    "variance = np.var(data)\n",
    "std = np.std(data)\n",
    "\n",
    "print(f\"Range is： {r}\")\n",
    "print(f\"IQR is： {iqr}\")\n",
    "print(f\"Variance is： {variance}\")\n",
    "print(f\"Standard deviation is： {std}\")"
   ]
  },
  {
   "cell_type": "code",
   "execution_count": 4,
   "metadata": {},
   "outputs": [
    {
     "data": {
      "text/plain": [
       "<matplotlib.axes._subplots.AxesSubplot at 0x7f6e006e3898>"
      ]
     },
     "execution_count": 4,
     "metadata": {},
     "output_type": "execute_result"
    },
    {
     "data": {
      "image/png": "[encoded data removed]",
      "text/plain": [
       "<Figure size 432x288 with 1 Axes>"
      ]
     },
     "metadata": {
      "needs_background": "light"
     },
     "output_type": "display_data"
    }
   ],
   "source": [
    "sns.boxplot(data)"
   ]
  },
  {
   "cell_type": "code",
   "execution_count": null,
   "metadata": {},
   "outputs": [],
   "source": []
  }
 ],
 "metadata": {
  "kernelspec": {
   "display_name": "Python 3",
   "language": "python",
   "name": "python3"
  },
  "language_info": {
   "codemirror_mode": {
    "name": "ipython",
    "version": 3
   },
   "file_extension": ".py",
   "mimetype": "text/x-python",
   "name": "python",
   "nbconvert_exporter": "python",
   "pygments_lexer": "ipython3",
   "version": "3.6.6"
  }
 },
 "nbformat": 4,
 "nbformat_minor": 4
}
