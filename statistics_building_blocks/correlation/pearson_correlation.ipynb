{
 "cells": [
  {
   "attachments": {
    "image.png": {
     "image/png": "[encoded data removed]"
    }
   },
   "cell_type": "markdown",
   "metadata": {},
   "source": [
    "# Covariance\n",
    "\n",
    "is a measure of the joint variability of two random variables (e.g. X and Y).\n",
    "\n",
    "- `cov(X, Y) > 0`: If the greater values of one variable(X) mainly correspond with the greater values of the other variable(Y), and the same holds for the lesser values\n",
    "- `cov(X, Y) < 0`: In the opposite case, when the greater values of one variable(X) mainly correspond to the lesser values of the other(Y)\n",
    "\n",
    "https://en.wikipedia.org/wiki/Covariance\n",
    "\n",
    "### Definition\n",
    "![image.png](attachment:image.png)"
   ]
  },
  {
   "attachments": {
    "image.png": {
     "image/png": "[encoded data removed]"
    }
   },
   "cell_type": "markdown",
   "metadata": {},
   "source": [
    "For discrete random variables\n",
    "![image.png](attachment:image.png)"
   ]
  },
  {
   "cell_type": "markdown",
   "metadata": {},
   "source": [
    "### Uncorrelatedness and independence\n",
    "\n",
    "- Independent (Random) variables are uncorrelated -> cov=0, thus E[XY] = E[X]E[Y]\n",
    "- cov=0 only tells variables are uncorrelated, but not necessarily independ"
   ]
  },
  {
   "cell_type": "markdown",
   "metadata": {},
   "source": [
    "---"
   ]
  },
  {
   "attachments": {
    "image.png": {
     "image/png": "[encoded data removed]"
    }
   },
   "cell_type": "markdown",
   "metadata": {},
   "source": [
    "# Pearson correlation\n",
    "\n",
    "also called bivariate correlation, measures the **linear correlation between** two variables X and Y.\n",
    "\n",
    "it has a value between +1 and −1, where\n",
    "\n",
    "- 1 is total positive linear correlation\n",
    "- 0 is no linear correlation\n",
    "- −1 is total negative linear correlation \n",
    "\n",
    "https://en.wikipedia.org/wiki/Pearson_correlation_coefficient\n",
    "\n",
    "### definition\n",
    "For a population\n",
    "![image.png](attachment:image.png)"
   ]
  },
  {
   "attachments": {
    "image.png": {
     "image/png": "[encoded data removed]"
    }
   },
   "cell_type": "markdown",
   "metadata": {},
   "source": [
    "For a sample\n",
    "![image.png](attachment:image.png)"
   ]
  },
  {
   "cell_type": "markdown",
   "metadata": {},
   "source": [
    "---"
   ]
  },
  {
   "cell_type": "markdown",
   "metadata": {},
   "source": [
    "# Coefficient of determination\n",
    "\n",
    "is the proportion of the variance in the dependent variable that is predictable from the independent variable(s).\n",
    "\n",
    "`R^2 = 1 - SSres/SStol`\n",
    "\n",
    "It describes the goodness-of-fit of the regression. The best score is 1, the higher R^2 is, the better the fit is.\n",
    "\n",
    "If R2 = 0.7, it means 70% of the variance of the dependent variable could be explained by the regression.\n",
    "\n",
    "https://en.wikipedia.org/wiki/Coefficient_of_determination#Definitions\n",
    "\n",
    "\n",
    "#### In least squares regression analysis, `0 <= R^2 = SSreg = r^2 <= 1`"
   ]
  },
  {
   "cell_type": "markdown",
   "metadata": {},
   "source": [
    "---"
   ]
  },
  {
   "cell_type": "code",
   "execution_count": 1,
   "metadata": {},
   "outputs": [],
   "source": [
    "import pandas as pd\n",
    "import numpy as np\n",
    "from sklearn.metrics import r2_score\n",
    "import seaborn as sns"
   ]
  },
  {
   "cell_type": "markdown",
   "metadata": {},
   "source": [
    "Generate a dataset with 3 columns A, B and C.\n",
    "- A and B are possitive correlated ( not strong, by introducing massive noice)\n",
    "- A and C are negative correlated ( strong, by introducing small noice"
   ]
  },
  {
   "cell_type": "code",
   "execution_count": 2,
   "metadata": {},
   "outputs": [
    {
     "data": {
      "text/html": [
       "<div>\n",
       "<style scoped>\n",
       "    .dataframe tbody tr th:only-of-type {\n",
       "        vertical-align: middle;\n",
       "    }\n",
       "\n",
       "    .dataframe tbody tr th {\n",
       "        vertical-align: top;\n",
       "    }\n",
       "\n",
       "    .dataframe thead th {\n",
       "        text-align: right;\n",
       "    }\n",
       "</style>\n",
       "<table border=\"1\" class=\"dataframe\">\n",
       "  <thead>\n",
       "    <tr style=\"text-align: right;\">\n",
       "      <th></th>\n",
       "      <th>A</th>\n",
       "      <th>B</th>\n",
       "      <th>C</th>\n",
       "    </tr>\n",
       "  </thead>\n",
       "  <tbody>\n",
       "    <tr>\n",
       "      <th>0</th>\n",
       "      <td>49</td>\n",
       "      <td>184.277675</td>\n",
       "      <td>-46.809256</td>\n",
       "    </tr>\n",
       "    <tr>\n",
       "      <th>1</th>\n",
       "      <td>48</td>\n",
       "      <td>101.528192</td>\n",
       "      <td>-42.991443</td>\n",
       "    </tr>\n",
       "    <tr>\n",
       "      <th>2</th>\n",
       "      <td>47</td>\n",
       "      <td>167.783145</td>\n",
       "      <td>-38.463960</td>\n",
       "    </tr>\n",
       "    <tr>\n",
       "      <th>3</th>\n",
       "      <td>46</td>\n",
       "      <td>85.467301</td>\n",
       "      <td>-39.003312</td>\n",
       "    </tr>\n",
       "    <tr>\n",
       "      <th>4</th>\n",
       "      <td>45</td>\n",
       "      <td>-90.334468</td>\n",
       "      <td>-33.818901</td>\n",
       "    </tr>\n",
       "  </tbody>\n",
       "</table>\n",
       "</div>"
      ],
      "text/plain": [
       "    A           B          C\n",
       "0  49  184.277675 -46.809256\n",
       "1  48  101.528192 -42.991443\n",
       "2  47  167.783145 -38.463960\n",
       "3  46   85.467301 -39.003312\n",
       "4  45  -90.334468 -33.818901"
      ]
     },
     "execution_count": 2,
     "metadata": {},
     "output_type": "execute_result"
    }
   ],
   "source": [
    "# values in A would go down and then up\n",
    "A = np.arange(50)\n",
    "A = np.concatenate([np.flip(A), A])\n",
    "\n",
    "# B = 3*A - 5 + noice, however noice is big\n",
    "B = 3 * A - 5 + np.random.normal(0, 100,100)\n",
    "\n",
    "# C = -A + 4 + noice, noice is small\n",
    "C = -1 * A + 4 + np.random.normal(0, 5, 100)\n",
    "\n",
    "data = pd.DataFrame([(.2, .3), (.0, .6), (.6, .0), (.2, .1)], columns=['dogs', 'cats'])\n",
    "data = pd.DataFrame({'A': A, 'B': B, 'C': C})\n",
    "data.head()"
   ]
  },
  {
   "cell_type": "markdown",
   "metadata": {},
   "source": [
    "Calculate the correlation matrix for A, B and C.\n",
    "\n",
    "Then plot the samples to verify"
   ]
  },
  {
   "cell_type": "code",
   "execution_count": 3,
   "metadata": {},
   "outputs": [
    {
     "data": {
      "text/html": [
       "<div>\n",
       "<style scoped>\n",
       "    .dataframe tbody tr th:only-of-type {\n",
       "        vertical-align: middle;\n",
       "    }\n",
       "\n",
       "    .dataframe tbody tr th {\n",
       "        vertical-align: top;\n",
       "    }\n",
       "\n",
       "    .dataframe thead th {\n",
       "        text-align: right;\n",
       "    }\n",
       "</style>\n",
       "<table border=\"1\" class=\"dataframe\">\n",
       "  <thead>\n",
       "    <tr style=\"text-align: right;\">\n",
       "      <th></th>\n",
       "      <th>A</th>\n",
       "      <th>B</th>\n",
       "      <th>C</th>\n",
       "    </tr>\n",
       "  </thead>\n",
       "  <tbody>\n",
       "    <tr>\n",
       "      <th>A</th>\n",
       "      <td>1.000000</td>\n",
       "      <td>0.366500</td>\n",
       "      <td>-0.945054</td>\n",
       "    </tr>\n",
       "    <tr>\n",
       "      <th>B</th>\n",
       "      <td>0.366500</td>\n",
       "      <td>1.000000</td>\n",
       "      <td>-0.356642</td>\n",
       "    </tr>\n",
       "    <tr>\n",
       "      <th>C</th>\n",
       "      <td>-0.945054</td>\n",
       "      <td>-0.356642</td>\n",
       "      <td>1.000000</td>\n",
       "    </tr>\n",
       "  </tbody>\n",
       "</table>\n",
       "</div>"
      ],
      "text/plain": [
       "          A         B         C\n",
       "A  1.000000  0.366500 -0.945054\n",
       "B  0.366500  1.000000 -0.356642\n",
       "C -0.945054 -0.356642  1.000000"
      ]
     },
     "execution_count": 3,
     "metadata": {},
     "output_type": "execute_result"
    }
   ],
   "source": [
    "data.corr()"
   ]
  },
  {
   "cell_type": "code",
   "execution_count": 4,
   "metadata": {
    "scrolled": true
   },
   "outputs": [
    {
     "data": {
      "text/plain": [
       "<matplotlib.axes._subplots.AxesSubplot at 0x7f214c2c8950>"
      ]
     },
     "execution_count": 4,
     "metadata": {},
     "output_type": "execute_result"
    },
    {
     "data": {
      "image/png": "[encoded data removed]",
      "text/plain": [
       "<Figure size 432x288 with 1 Axes>"
      ]
     },
     "metadata": {
      "needs_background": "light"
     },
     "output_type": "display_data"
    }
   ],
   "source": [
    "sns.scatterplot(data=data)"
   ]
  },
  {
   "cell_type": "code",
   "execution_count": 5,
   "metadata": {},
   "outputs": [
    {
     "name": "stdout",
     "output_type": "stream",
     "text": [
      "R squared of prediction of B is: -4.362885026132839\n",
      "R squared of prediction of C is: 0.8625067166563007\n"
     ]
    }
   ],
   "source": [
    "# the above B and C could be treated as prediction according to A\n",
    "# than true values of B and C, without noices should be\n",
    "B_true = 3 * A + 5\n",
    "C_true = -1 * A + 4\n",
    "\n",
    "r2_B = r2_score(B_true, B)\n",
    "r2_C = r2_score(C_true, C)\n",
    "\n",
    "print(f\"R squared of prediction of B is: {r2_B}\")\n",
    "print(f\"R squared of prediction of C is: {r2_C}\")"
   ]
  },
  {
   "cell_type": "code",
   "execution_count": null,
   "metadata": {},
   "outputs": [],
   "source": []
  }
 ],
 "metadata": {
  "kernelspec": {
   "display_name": "Python 3",
   "language": "python",
   "name": "python3"
  },
  "language_info": {
   "codemirror_mode": {
    "name": "ipython",
    "version": 3
   },
   "file_extension": ".py",
   "mimetype": "text/x-python",
   "name": "python",
   "nbconvert_exporter": "python",
   "pygments_lexer": "ipython3",
   "version": "3.7.6"
  }
 },
 "nbformat": 4,
 "nbformat_minor": 2
}
