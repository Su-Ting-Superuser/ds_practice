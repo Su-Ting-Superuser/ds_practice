{
 "cells": [
  {
   "attachments": {
    "image.png": {
     "image/png": "[encoded data removed]"
    }
   },
   "cell_type": "markdown",
   "metadata": {},
   "source": [
    "# Covariance\n",
    "\n",
    "is a measure of the joint variability of two random variables (e.g. X and Y).\n",
    "\n",
    "- `cov(X, Y) > 0`: If the greater values of one variable(X) mainly correspond with the greater values of the other variable(Y), and the same holds for the lesser values\n",
    "- `cov(X, Y) < 0`: In the opposite case, when the greater values of one variable(X) mainly correspond to the lesser values of the other(Y)\n",
    "\n",
    "https://en.wikipedia.org/wiki/Covariance\n",
    "\n",
    "### Definition\n",
    "![image.png](attachment:image.png)"
   ]
  },
  {
   "attachments": {
    "image.png": {
     "image/png": "[encoded data removed]"
    }
   },
   "cell_type": "markdown",
   "metadata": {},
   "source": [
    "For discrete random variables\n",
    "![image.png](attachment:image.png)"
   ]
  },
  {
   "cell_type": "markdown",
   "metadata": {},
   "source": [
    "### Uncorrelatedness and independence\n",
    "\n",
    "- Independent (Random) variables are uncorrelated -> cov=0, thus E[XY] = E[X]E[Y]\n",
    "- cov=0 only tells variables are uncorrelated, but not necessarily independ"
   ]
  },
  {
   "cell_type": "markdown",
   "metadata": {},
   "source": [
    "---"
   ]
  },
  {
   "attachments": {
    "image.png": {
     "image/png": "[encoded data removed]"
    }
   },
   "cell_type": "markdown",
   "metadata": {},
   "source": [
    "# Pearson correlation\n",
    "\n",
    "also called bivariate correlation, measures the **linear correlation between** two variables X and Y.\n",
    "\n",
    "it has a value between +1 and −1, where\n",
    "\n",
    "- 1 is total positive linear correlation\n",
    "- 0 is no linear correlation\n",
    "- −1 is total negative linear correlation \n",
    "\n",
    "https://en.wikipedia.org/wiki/Pearson_correlation_coefficient\n",
    "\n",
    "### definition\n",
    "For a population\n",
    "![image.png](attachment:image.png)"
   ]
  },
  {
   "attachments": {
    "image.png": {
     "image/png": "[encoded data removed]"
    }
   },
   "cell_type": "markdown",
   "metadata": {},
   "source": [
    "For a sample\n",
    "![image.png](attachment:image.png)"
   ]
  },
  {
   "cell_type": "markdown",
   "metadata": {},
   "source": [
    "---"
   ]
  },
  {
   "cell_type": "markdown",
   "metadata": {},
   "source": [
    "# Coefficient of determination\n",
    "\n",
    "is the proportion of the variance in the dependent variable that is predictable from the independent variable(s).\n",
    "\n",
    "`R^2 = 1 - SSres/SStol`\n",
    "\n",
    "It describes the goodness-of-fit of the regression. The best score is 1, the higher R^2 is, the better the fit is. It is **not limited** to linear regressions.\n",
    "\n",
    "If R2 = 0.7, it means 70% of the variance of the dependent variable could be explained by the regression.\n",
    "\n",
    "https://en.wikipedia.org/wiki/Coefficient_of_determination#Definitions\n",
    "\n",
    "\n",
    "#### In least squares regression analysis, `0 <= R^2 = SSreg = r^2 <= 1`\n",
    "\n",
    "### Relationship between R2 and MSE\n",
    "R2 is a normalized version of MSE, we use MSE for reporting because it's a simple metric and it is technically the loss-function we are minimizing when we solve the normal equations.\n",
    "\n",
    "R2 is useful because it is often easier to interpret since it doesn't depend on the scale of the data.\n",
    "\n",
    "As a concrete example, consider two models: one predicting income and the other predicting age, R2 will make it easier to state which model is performing better.\n",
    "\n",
    "*In general, this isn't a great idea and you shouldn't compare metrics like R2 across different models to make these sorts of claims because some things are just fundamentally harder to predict than others (e.g., stock markets vs. who survived the Titanic).*"
   ]
  },
  {
   "cell_type": "markdown",
   "metadata": {},
   "source": [
    "---"
   ]
  },
  {
   "cell_type": "code",
   "execution_count": 1,
   "metadata": {},
   "outputs": [],
   "source": [
    "import pandas as pd\n",
    "import numpy as np\n",
    "from sklearn.metrics import r2_score\n",
    "import seaborn as sns"
   ]
  },
  {
   "cell_type": "markdown",
   "metadata": {},
   "source": [
    "Generate a dataset with 3 columns A, B and C.\n",
    "- A and B are possitive correlated ( not strong, by introducing massive noice)\n",
    "- A and C are negative correlated ( strong, by introducing small noice"
   ]
  },
  {
   "cell_type": "code",
   "execution_count": 2,
   "metadata": {},
   "outputs": [
    {
     "data": {
      "text/html": [
       "<div>\n",
       "<style scoped>\n",
       "    .dataframe tbody tr th:only-of-type {\n",
       "        vertical-align: middle;\n",
       "    }\n",
       "\n",
       "    .dataframe tbody tr th {\n",
       "        vertical-align: top;\n",
       "    }\n",
       "\n",
       "    .dataframe thead th {\n",
       "        text-align: right;\n",
       "    }\n",
       "</style>\n",
       "<table border=\"1\" class=\"dataframe\">\n",
       "  <thead>\n",
       "    <tr style=\"text-align: right;\">\n",
       "      <th></th>\n",
       "      <th>A</th>\n",
       "      <th>B</th>\n",
       "      <th>C</th>\n",
       "    </tr>\n",
       "  </thead>\n",
       "  <tbody>\n",
       "    <tr>\n",
       "      <th>0</th>\n",
       "      <td>49</td>\n",
       "      <td>174.885427</td>\n",
       "      <td>-47.089068</td>\n",
       "    </tr>\n",
       "    <tr>\n",
       "      <th>1</th>\n",
       "      <td>48</td>\n",
       "      <td>10.208462</td>\n",
       "      <td>-43.564591</td>\n",
       "    </tr>\n",
       "    <tr>\n",
       "      <th>2</th>\n",
       "      <td>47</td>\n",
       "      <td>61.610024</td>\n",
       "      <td>-36.953932</td>\n",
       "    </tr>\n",
       "    <tr>\n",
       "      <th>3</th>\n",
       "      <td>46</td>\n",
       "      <td>259.077029</td>\n",
       "      <td>-45.141806</td>\n",
       "    </tr>\n",
       "    <tr>\n",
       "      <th>4</th>\n",
       "      <td>45</td>\n",
       "      <td>99.445274</td>\n",
       "      <td>-49.885505</td>\n",
       "    </tr>\n",
       "  </tbody>\n",
       "</table>\n",
       "</div>"
      ],
      "text/plain": [
       "    A           B          C\n",
       "0  49  174.885427 -47.089068\n",
       "1  48   10.208462 -43.564591\n",
       "2  47   61.610024 -36.953932\n",
       "3  46  259.077029 -45.141806\n",
       "4  45   99.445274 -49.885505"
      ]
     },
     "execution_count": 2,
     "metadata": {},
     "output_type": "execute_result"
    }
   ],
   "source": [
    "# values in A would go down and then up\n",
    "A = np.arange(50)\n",
    "A = np.concatenate([np.flip(A), A])\n",
    "\n",
    "# B = 3*A - 5 + noice, however noice is big\n",
    "B = 3 * A - 5 + np.random.normal(0, 100,100)\n",
    "\n",
    "# C = -A + 4 + noice, noice is small\n",
    "C = -1 * A + 4 + np.random.normal(0, 5, 100)\n",
    "\n",
    "data = pd.DataFrame([(.2, .3), (.0, .6), (.6, .0), (.2, .1)], columns=['dogs', 'cats'])\n",
    "data = pd.DataFrame({'A': A, 'B': B, 'C': C})\n",
    "data.head()"
   ]
  },
  {
   "cell_type": "markdown",
   "metadata": {},
   "source": [
    "Calculate the correlation matrix for A, B and C.\n",
    "\n",
    "Then plot the samples to verify"
   ]
  },
  {
   "cell_type": "code",
   "execution_count": 3,
   "metadata": {},
   "outputs": [
    {
     "data": {
      "text/html": [
       "<div>\n",
       "<style scoped>\n",
       "    .dataframe tbody tr th:only-of-type {\n",
       "        vertical-align: middle;\n",
       "    }\n",
       "\n",
       "    .dataframe tbody tr th {\n",
       "        vertical-align: top;\n",
       "    }\n",
       "\n",
       "    .dataframe thead th {\n",
       "        text-align: right;\n",
       "    }\n",
       "</style>\n",
       "<table border=\"1\" class=\"dataframe\">\n",
       "  <thead>\n",
       "    <tr style=\"text-align: right;\">\n",
       "      <th></th>\n",
       "      <th>A</th>\n",
       "      <th>B</th>\n",
       "      <th>C</th>\n",
       "    </tr>\n",
       "  </thead>\n",
       "  <tbody>\n",
       "    <tr>\n",
       "      <th>A</th>\n",
       "      <td>1.000000</td>\n",
       "      <td>0.295609</td>\n",
       "      <td>-0.948693</td>\n",
       "    </tr>\n",
       "    <tr>\n",
       "      <th>B</th>\n",
       "      <td>0.295609</td>\n",
       "      <td>1.000000</td>\n",
       "      <td>-0.272986</td>\n",
       "    </tr>\n",
       "    <tr>\n",
       "      <th>C</th>\n",
       "      <td>-0.948693</td>\n",
       "      <td>-0.272986</td>\n",
       "      <td>1.000000</td>\n",
       "    </tr>\n",
       "  </tbody>\n",
       "</table>\n",
       "</div>"
      ],
      "text/plain": [
       "          A         B         C\n",
       "A  1.000000  0.295609 -0.948693\n",
       "B  0.295609  1.000000 -0.272986\n",
       "C -0.948693 -0.272986  1.000000"
      ]
     },
     "execution_count": 3,
     "metadata": {},
     "output_type": "execute_result"
    }
   ],
   "source": [
    "data.corr()"
   ]
  },
  {
   "cell_type": "code",
   "execution_count": 4,
   "metadata": {
    "scrolled": true
   },
   "outputs": [
    {
     "data": {
      "text/plain": [
       "<matplotlib.axes._subplots.AxesSubplot at 0x7fec983dc950>"
      ]
     },
     "execution_count": 4,
     "metadata": {},
     "output_type": "execute_result"
    },
    {
     "data": {
      "image/png": "[encoded data removed]",
      "text/plain": [
       "<Figure size 432x288 with 1 Axes>"
      ]
     },
     "metadata": {
      "needs_background": "light"
     },
     "output_type": "display_data"
    }
   ],
   "source": [
    "sns.scatterplot(data=data)"
   ]
  },
  {
   "cell_type": "code",
   "execution_count": 5,
   "metadata": {},
   "outputs": [
    {
     "name": "stdout",
     "output_type": "stream",
     "text": [
      "R squared of prediction of B is: -5.349639095282639\n",
      "R squared of prediction of C is: 0.8884234313558284\n"
     ]
    }
   ],
   "source": [
    "# the above B and C could be treated as prediction according to A\n",
    "# than true values of B and C, without noices should be\n",
    "B_true = 3 * A + 5\n",
    "C_true = -1 * A + 4\n",
    "\n",
    "r2_B = r2_score(B_true, B)\n",
    "r2_C = r2_score(C_true, C)\n",
    "\n",
    "print(f\"R squared of prediction of B is: {r2_B}\")\n",
    "print(f\"R squared of prediction of C is: {r2_C}\")"
   ]
  },
  {
   "cell_type": "code",
   "execution_count": null,
   "metadata": {},
   "outputs": [],
   "source": []
  }
 ],
 "metadata": {
  "kernelspec": {
   "display_name": "Python 3",
   "language": "python",
   "name": "python3"
  },
  "language_info": {
   "codemirror_mode": {
    "name": "ipython",
    "version": 3
   },
   "file_extension": ".py",
   "mimetype": "text/x-python",
   "name": "python",
   "nbconvert_exporter": "python",
   "pygments_lexer": "ipython3",
   "version": "3.7.6"
  }
 },
 "nbformat": 4,
 "nbformat_minor": 2
}
