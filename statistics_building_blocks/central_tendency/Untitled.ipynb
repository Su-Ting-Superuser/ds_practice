{
 "cells": [
  {
   "cell_type": "code",
   "execution_count": 1,
   "metadata": {},
   "outputs": [
    {
     "name": "stdout",
     "output_type": "stream",
     "text": [
      "--Return--\n",
      "> <ipython-input-1-1beaafd1ea75>(8)<module>()->None\n",
      "-> import pdb; pdb.set_trace()\n",
      "(Pdb) c\n",
      "5\n",
      "4\n"
     ]
    }
   ],
   "source": [
    "import numpy as np\n",
    "\n",
    "X = np.array([1,3,4,5,6])\n",
    "\n",
    "n = X.size\n",
    "X = np.sort(X)\n",
    "\n",
    "import pdb; pdb.set_trace()\n",
    "\n",
    "# if the size of X is even\n",
    "if n % 2 == 0:\n",
    "    me = np.mean(X[int(n/2-1)], X[int(n/2)])\n",
    "    print(me)\n",
    "\n",
    "#if the size of X is odd\n",
    "if n % 2 != 0:\n",
    "    print(n)\n",
    "    me = X[int((n-1)/2)]\n",
    "    print(me)"
   ]
  },
  {
   "cell_type": "code",
   "execution_count": null,
   "metadata": {},
   "outputs": [],
   "source": []
  }
 ],
 "metadata": {
  "kernelspec": {
   "display_name": "Python 3",
   "language": "python",
   "name": "python3"
  },
  "language_info": {
   "codemirror_mode": {
    "name": "ipython",
    "version": 3
   },
   "file_extension": ".py",
   "mimetype": "text/x-python",
   "name": "python",
   "nbconvert_exporter": "python",
   "pygments_lexer": "ipython3",
   "version": "3.8.1"
  }
 },
 "nbformat": 4,
 "nbformat_minor": 4
}
