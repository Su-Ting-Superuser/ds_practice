{
 "cells": [
  {
   "cell_type": "markdown",
   "metadata": {},
   "source": [
    "# Central tendency\n",
    "is a central or typical value for a probability distribution.\n",
    "\n",
    "It may also be called a center or location of the distribution.\n",
    "\n",
    "The most common measures of central tendency are:\n",
    "- the arithmetic **mean**\n",
    "- the **median**\n",
    "- the **mode**"
   ]
  },
  {
   "cell_type": "code",
   "execution_count": 1,
   "metadata": {},
   "outputs": [],
   "source": [
    "import numpy as np\n",
    "import seaborn as sns\n",
    "from scipy import stats"
   ]
  },
  {
   "cell_type": "markdown",
   "metadata": {},
   "source": [
    "## mean\n",
    "\n",
    "`SUM(all_data) / number_of_data`\n",
    "\n",
    "- good at measuring things that are \"normally\" distributted\n",
    "- doesn't reflect on any individual point\n",
    "- distorted by outliers"
   ]
  },
  {
   "cell_type": "markdown",
   "metadata": {},
   "source": [
    "## median\n",
    "\n",
    "is the value separating the higher half from the lower half of a data sample\n",
    "\n",
    "- less skewed by a small proportion of outliers, and so may give better ideas of a \"typical\" value."
   ]
  },
  {
   "cell_type": "markdown",
   "metadata": {},
   "source": [
    "## mode\n",
    "\n",
    "is the value that appears most often, is the location of the peak of a PMF(probability mass function).\n",
    "\n",
    "\n",
    "In **multimodal**, commenly mode refers to all all local maxima of the distribution.\n",
    "\n",
    "Usually **multimodal** data results from **two or more underlying groups all being measured together**"
   ]
  },
  {
   "cell_type": "markdown",
   "metadata": {},
   "source": [
    "---"
   ]
  },
  {
   "cell_type": "code",
   "execution_count": 2,
   "metadata": {},
   "outputs": [
    {
     "name": "stderr",
     "output_type": "stream",
     "text": [
      "/opt/cloudera/parcels/Anaconda-5.1.0.1/envs/newron-dev/lib/python3.6/site-packages/scipy/stats/stats.py:1713: FutureWarning: Using a non-tuple sequence for multidimensional indexing is deprecated; use `arr[tuple(seq)]` instead of `arr[seq]`. In the future this will be interpreted as an array index, `arr[np.array(seq)]`, which will result either in an error or a different result.\n",
      "  return np.add.reduce(sorted[indexer] * weights, axis=axis) / sumval\n"
     ]
    },
    {
     "data": {
      "text/plain": [
       "<matplotlib.axes._subplots.AxesSubplot at 0x7f68b7479e48>"
      ]
     },
     "execution_count": 2,
     "metadata": {},
     "output_type": "execute_result"
    },
    {
     "data": {
      "image/png": "[encoded data removed]",
      "text/plain": [
       "<Figure size 432x288 with 1 Axes>"
      ]
     },
     "metadata": {
      "needs_background": "light"
     },
     "output_type": "display_data"
    }
   ],
   "source": [
    "mu, sigma = 0, 0.1\n",
    "data = np.random.normal(mu, sigma, 1000)\n",
    "sns.distplot(data)"
   ]
  },
  {
   "cell_type": "code",
   "execution_count": 3,
   "metadata": {},
   "outputs": [
    {
     "name": "stdout",
     "output_type": "stream",
     "text": [
      "mean is： -0.0014394656998261062\n",
      "median is： -0.002783248503676583\n",
      "mode is： ModeResult(mode=array([-0.30456527]), count=array([1]))\n"
     ]
    }
   ],
   "source": [
    "avg = np.mean(data)\n",
    "me = np.median(data)\n",
    "mo = stats.mode(data)\n",
    "\n",
    "print(f\"mean is： {avg}\")\n",
    "print(f\"median is： {me}\")\n",
    "print(f\"mode is： {mo}\")"
   ]
  },
  {
   "cell_type": "markdown",
   "metadata": {},
   "source": [
    "---"
   ]
  },
  {
   "cell_type": "markdown",
   "metadata": {},
   "source": [
    "## relationship among mean, median and mode\n",
    "\n",
    "- in normal distribution(unimodal, continous, symmetric), **mode  =median = mean**\n",
    "- in **left skyewed** unimodal, **mean < median < mode**\n",
    "- in **right skyewed** unimodal, **mode < median < mean**"
   ]
  }
 ],
 "metadata": {
  "kernelspec": {
   "display_name": "Python 3",
   "language": "python",
   "name": "python3"
  },
  "language_info": {
   "codemirror_mode": {
    "name": "ipython",
    "version": 3
   },
   "file_extension": ".py",
   "mimetype": "text/x-python",
   "name": "python",
   "nbconvert_exporter": "python",
   "pygments_lexer": "ipython3",
   "version": "3.6.6"
  }
 },
 "nbformat": 4,
 "nbformat_minor": 4
}
